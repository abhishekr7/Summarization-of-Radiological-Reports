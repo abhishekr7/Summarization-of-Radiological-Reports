{
 "cells": [
  {
   "cell_type": "code",
   "execution_count": 1,
   "metadata": {
    "_uuid": "6adccc17bbe02071d921a447ffa4708ed3ad1c6c"
   },
   "outputs": [
    {
     "name": "stderr",
     "output_type": "stream",
     "text": [
      "Using TensorFlow backend.\n"
     ]
    }
   ],
   "source": [
    "from __future__ import print_function\n",
    "import jsonlines\n",
    "import re\n",
    "import json\n",
    "import nltk\n",
    "import io\n",
    "import numpy as np\n",
    "from keras.layers import Embedding\n",
    "from keras.initializers import Constant\n",
    "from keras.preprocessing.text import Tokenizer\n",
    "from keras.preprocessing.sequence import pad_sequences"
   ]
  },
  {
   "cell_type": "code",
   "execution_count": 2,
   "metadata": {
    "_uuid": "daad741f9949a185c5278851637f0bab7e7b4c57"
   },
   "outputs": [],
   "source": [
    "# start - <sos> tag\n",
    "# stop - <eos> tag\n",
    "\n",
    "#split records into list of impression, findings\n",
    "def splitReports(File):\n",
    "    \n",
    "    impression_list = []\n",
    "    findings_list = []\n",
    "    \n",
    "    with open(File,'r') as file:\n",
    "        for line in file:\n",
    "            all = line\n",
    "        \n",
    "    report_list = re.findall(r'{.*?}',all)\n",
    "\n",
    "    for report in report_list:\n",
    "        obj = json.loads(report)\n",
    "        # indication_list.append(str(obj['Indication']))\n",
    "        impression_list.append('start ' + str(obj['impression']) + ' stop')\n",
    "        findings_list.append(str(obj['findings']))\n",
    "        \n",
    "    return (findings_list, impression_list)    "
   ]
  },
  {
   "cell_type": "code",
   "execution_count": 3,
   "metadata": {
    "_uuid": "ec3a975f695b3a5a82b41014c847cf14cb0461f3"
   },
   "outputs": [],
   "source": [
    "#get vocab of indications, impression, findings\n",
    "def getVocabularySets(findings_list, impression_list):\n",
    "    # indication_vocab_set = set()\n",
    "    impression_vocab_set = set()\n",
    "    findings_vocab_set = set()\n",
    "    common_vocab_set = set()\n",
    "\n",
    "    #for item in indication_list:\n",
    "     #   for word in nltk.word_tokenize(item):\n",
    "      #      indication_vocab_set.add(word.lower())\n",
    "        \n",
    "    for item in impression_list:\n",
    "        for word in nltk.word_tokenize(item):\n",
    "            impression_vocab_set.add(word.lower())\n",
    "        \n",
    "    for item in findings_list:\n",
    "        for word in nltk.word_tokenize(item):\n",
    "            findings_vocab_set.add(word.lower())\n",
    "        \n",
    "    # common_vocab_set.update(indication_vocab_set)\n",
    "    common_vocab_set.update(impression_vocab_set)\n",
    "    common_vocab_set.update(findings_vocab_set)\n",
    "    \n",
    "    return (common_vocab_set, findings_vocab_set, impression_vocab_set)"
   ]
  },
  {
   "cell_type": "code",
   "execution_count": 4,
   "metadata": {
    "_uuid": "7c60d799f7b363eab1f826019eb0282ddc87ee1e"
   },
   "outputs": [],
   "source": [
    "# get the embedding  matrix\n",
    "def loadGloVeModel(gloVe_file):\n",
    "    embedding_model = {}\n",
    "    \n",
    "    with io.open(gloVe_file, encoding = 'utf8') as f:\n",
    "        word_embeddings = f.readlines()\n",
    "        \n",
    "    for word_embedding_line in word_embeddings:\n",
    "        word_embedding = word_embedding_line.split()\n",
    "        word = word_embedding[0]\n",
    "        embedding = np.array([float(col) for col in word_embedding[1:]])\n",
    "        embedding_model[word] = embedding\n",
    "            \n",
    "    return embedding_model"
   ]
  },
  {
   "cell_type": "code",
   "execution_count": 5,
   "metadata": {
    "_uuid": "91e57d58914e00a5b15238d3e60a8225b3fcee17"
   },
   "outputs": [],
   "source": [
    "#get max sequences \n",
    "def getMaxSeq(List):\n",
    "        \n",
    "    max_len = 0\n",
    "    for item in List:\n",
    "        item_len = len(item.split())\n",
    "        if item_len > max_len:\n",
    "            max_len = item_len\n",
    "    \n",
    "    return max_len"
   ]
  },
  {
   "cell_type": "code",
   "execution_count": 6,
   "metadata": {
    "_uuid": "f22a8169e27f95eca6e1f3ca463883ed6fd2e81a"
   },
   "outputs": [],
   "source": [
    "findings, impression = splitReports('reports.jsonl')\n",
    "common_vocab, findings_vocab, impression_vocab = getVocabularySets(findings, impression)\n",
    "\n",
    "common = []\n",
    "common.extend(findings)\n",
    "#common.extend(indications)\n",
    "common.extend(impression)\n",
    "\n",
    "#max_indication_len = getMaxSeq(indications)\n",
    "findings_MAXLEN = getMaxSeq(findings)\n",
    "impression_MAXLEN = getMaxSeq(impression)\n",
    "\n",
    "MAXLEN = max(findings_MAXLEN,impression_MAXLEN)\n",
    "#MAX_LEN = 100 #99"
   ]
  },
  {
   "cell_type": "code",
   "execution_count": 7,
   "metadata": {
    "_uuid": "dfb99325e47cbe50feb42a8f3ea2c36666c14414"
   },
   "outputs": [
    {
     "data": {
      "text/plain": [
       "139"
      ]
     },
     "execution_count": 7,
     "metadata": {},
     "output_type": "execute_result"
    }
   ],
   "source": [
    "#embedding_model = loadGloVeModel('radglove.800M.100d.txt')\n",
    "#findings_MAXLEN\n",
    "impression_MAXLEN"
   ]
  },
  {
   "cell_type": "code",
   "execution_count": 8,
   "metadata": {
    "_uuid": "317a3081e58814441368cad34e89ce72228a2c3e"
   },
   "outputs": [
    {
     "data": {
      "text/plain": [
       "187"
      ]
     },
     "execution_count": 8,
     "metadata": {},
     "output_type": "execute_result"
    }
   ],
   "source": [
    "#embedding dimension\n",
    "#EMBEDDING_DIM = 100\n",
    "\n",
    "findings_MAXLEN"
   ]
  },
  {
   "cell_type": "code",
   "execution_count": 9,
   "metadata": {
    "_uuid": "e41adc6f0924b77a4c4a9a9f533ad3dae4c4d84c"
   },
   "outputs": [],
   "source": [
    "#tokenizer = Tokenizer()\n",
    "#tokenizer.fit_on_texts(common)\n",
    "\n",
    "#word_to_index = tokenizer.word_index\n",
    "\n",
    "#indication_sequences = tokenizer.texts_to_sequences(indications)\n",
    "\n",
    "#findings_sequences = tokenizer.texts_to_sequences(findings)\n",
    "#impression_sequences = tokenizer.texts_to_sequences(impression)\n",
    "\n",
    "#indication_data = pad_sequences(indication_sequences, maxlen = MAXLEN)\n",
    "\n",
    "#findings_data = pad_sequences(findings_sequences, maxlen = MAX_LEN)\n",
    "#impression_data = pad_sequences(impression_sequences, maxlen = MAX_LEN)\n",
    "\n",
    "word_2_index = dict([(word, i) for i, word in enumerate(common_vocab)])\n",
    "\n",
    "#I_word_2_index = dict([(word, i) for i, word in enumerate(impression_vocab)])"
   ]
  },
  {
   "cell_type": "code",
   "execution_count": 10,
   "metadata": {
    "_uuid": "fd347110b455a24b64b0532e5818f58b62e5bdc3"
   },
   "outputs": [],
   "source": [
    "index_2_word = {}\n",
    "for word,index in word_2_index.items():\n",
    "    index_2_word[index] = word\n",
    "    \n",
    "#I_index_2_word = {}\n",
    "#for word,index in I_word_2_index.items():\n",
    "#    I_index_2_word[index] = word"
   ]
  },
  {
   "cell_type": "code",
   "execution_count": 11,
   "metadata": {
    "_uuid": "1c6b605ae1459c0e6bf313391fa6e3909ba888ee"
   },
   "outputs": [],
   "source": [
    "embedding_model = loadGloVeModel('radglove.800M.100d.txt')\n",
    "\n",
    "EMBEDDING_DIM = 100\n",
    "\n",
    "embedding_matrix = np.zeros((len(common_vocab),EMBEDDING_DIM))\n",
    "# inverse_embedding_matrix = np.zeros((EMBEDDING_DIM, len(findings_vocab)))\n",
    "\n",
    "inverse_embedding_matrix = {}\n",
    "for word,index in word_2_index.items():\n",
    "    embedding_vector = embedding_model.get(word)\n",
    "    \n",
    "    if embedding_vector is not None :\n",
    "        embedding_matrix[index] = embedding_vector"
   ]
  },
  {
   "cell_type": "code",
   "execution_count": 12,
   "metadata": {
    "_uuid": "6eb9910aca58350a97bef6eb153bfcd51ece56bc"
   },
   "outputs": [],
   "source": [
    "# check doc.s once\n",
    "# trainable=False to prevent the weights from being updated during training\n",
    "embedding_layer = Embedding(len(common_vocab), EMBEDDING_DIM, embeddings_initializer=Constant(embedding_matrix), trainable=False)"
   ]
  },
  {
   "cell_type": "code",
   "execution_count": 13,
   "metadata": {
    "_uuid": "e95e6c2ae4d6d7f07b5ccaedeb40d19939047f8f"
   },
   "outputs": [
    {
     "data": {
      "text/plain": [
       "2070"
      ]
     },
     "execution_count": 13,
     "metadata": {},
     "output_type": "execute_result"
    }
   ],
   "source": [
    "len(common_vocab)"
   ]
  },
  {
   "cell_type": "code",
   "execution_count": 14,
   "metadata": {
    "_uuid": "fa26e4a6445b9be3b6684bf2274f031a9223e9bb"
   },
   "outputs": [],
   "source": [
    "findings_data = np.zeros(\n",
    "    (len(findings), findings_MAXLEN),\n",
    "    dtype='float32')\n",
    "#impression_data = np.zeros(\n",
    "#    (len(impression), impression_MAXLEN),\n",
    "#    dtype='float32')\n",
    "target_data = np.zeros(\n",
    "    (len(impression), impression_MAXLEN, len(common_vocab)),\n",
    "    dtype='float32')"
   ]
  },
  {
   "cell_type": "code",
   "execution_count": 15,
   "metadata": {
    "_uuid": "16cfffcd6e15616dfb944ef43c9b1628573deb9d"
   },
   "outputs": [
    {
     "data": {
      "text/plain": [
       "(2691, 139, 2070)"
      ]
     },
     "execution_count": 15,
     "metadata": {},
     "output_type": "execute_result"
    }
   ],
   "source": [
    "target_data.shape"
   ]
  },
  {
   "cell_type": "code",
   "execution_count": 16,
   "metadata": {
    "_uuid": "178b2293f0180d62a66a7855094c46ba59f359fd"
   },
   "outputs": [],
   "source": [
    "def toLowerCase(findings, impression):\n",
    "    new_findings = []\n",
    "    new_impression = []\n",
    "    for sent in findings:\n",
    "        new_sent = \"\"\n",
    "        for word in sent.split():\n",
    "            new_sent = new_sent + word.lower() + ' '\n",
    "        new_findings.append(new_sent) \n",
    "\n",
    "    for sent in impression:\n",
    "        new_sent = \"\"\n",
    "        for word in sent.split():\n",
    "            new_sent = new_sent + word.lower() + ' '\n",
    "        new_impression.append(new_sent)\n",
    "        \n",
    "    return (new_findings, new_impression)\n",
    "\n",
    "findings, impression = toLowerCase(findings, impression)"
   ]
  },
  {
   "cell_type": "code",
   "execution_count": 17,
   "metadata": {
    "_uuid": "e54c802b3fbe68a86adc3fa6917aea4bb8f221d4"
   },
   "outputs": [],
   "source": [
    "for i, (FINDINGS, IMPRESSION) in enumerate(zip(findings, impression)):\n",
    "    for t, word in enumerate(nltk.word_tokenize(FINDINGS)):\n",
    "        findings_data[i, t] = word_2_index[word]\n",
    "        \n",
    "    for t, word in enumerate(nltk.word_tokenize(IMPRESSION)):\n",
    "        #impression_data[i, t] = I_word_2_index[word_i]\n",
    "        \n",
    "        if t > 0:\n",
    "            target_data[i, t-1, word_2_index[word]] = 1"
   ]
  },
  {
   "cell_type": "code",
   "execution_count": null,
   "metadata": {
    "_uuid": "8e39c093ddefd469d1b507b30ba9ea444d9bbd74"
   },
   "outputs": [],
   "source": []
  },
  {
   "cell_type": "code",
   "execution_count": null,
   "metadata": {
    "_uuid": "7850330f0e61a29f8867f17b53da6c3a0694dd78"
   },
   "outputs": [],
   "source": []
  },
  {
   "cell_type": "code",
   "execution_count": 19,
   "metadata": {
    "_uuid": "85a4ac3a6bcdc6b3fec1b1629e5c52acc25a5186"
   },
   "outputs": [
    {
     "name": "stdout",
     "output_type": "stream",
     "text": [
      "Train on 2421 samples, validate on 270 samples\n",
      "Epoch 1/30\n",
      "2421/2421 [==============================] - 329s 136ms/step - loss: 0.4728 - val_loss: 0.3687\n",
      "Epoch 2/30\n",
      "2421/2421 [==============================] - 146s 60ms/step - loss: 0.3777 - val_loss: 0.3533\n",
      "Epoch 3/30\n",
      "2421/2421 [==============================] - 146s 60ms/step - loss: 0.3662 - val_loss: 0.3453\n",
      "Epoch 4/30\n",
      "2421/2421 [==============================] - 145s 60ms/step - loss: 0.3585 - val_loss: 0.3392\n",
      "Epoch 5/30\n",
      "2421/2421 [==============================] - 146s 60ms/step - loss: 0.3506 - val_loss: 0.3327\n",
      "Epoch 6/30\n",
      "2421/2421 [==============================] - 146s 60ms/step - loss: 0.3443 - val_loss: 0.3279\n",
      "Epoch 7/30\n",
      "2421/2421 [==============================] - 145s 60ms/step - loss: 0.3398 - val_loss: 0.3247\n",
      "Epoch 8/30\n",
      "2421/2421 [==============================] - 145s 60ms/step - loss: 0.3354 - val_loss: 0.3230\n",
      "Epoch 9/30\n",
      "2421/2421 [==============================] - 146s 60ms/step - loss: 0.3319 - val_loss: 0.3199\n",
      "Epoch 10/30\n",
      "2421/2421 [==============================] - 146s 60ms/step - loss: 0.3279 - val_loss: 0.3184\n",
      "Epoch 11/30\n",
      "2421/2421 [==============================] - 146s 60ms/step - loss: 0.3251 - val_loss: 0.3175\n",
      "Epoch 12/30\n",
      "2421/2421 [==============================] - 146s 60ms/step - loss: 0.3222 - val_loss: 0.3156\n",
      "Epoch 13/30\n",
      "2421/2421 [==============================] - 146s 60ms/step - loss: 0.3189 - val_loss: 0.3147\n",
      "Epoch 14/30\n",
      "2421/2421 [==============================] - 145s 60ms/step - loss: 0.3159 - val_loss: 0.3146\n",
      "Epoch 15/30\n",
      "2421/2421 [==============================] - 146s 60ms/step - loss: 0.3126 - val_loss: 0.3121\n",
      "Epoch 16/30\n",
      "2421/2421 [==============================] - 145s 60ms/step - loss: 0.3097 - val_loss: 0.3127\n",
      "Epoch 17/30\n",
      "2421/2421 [==============================] - 146s 60ms/step - loss: 0.3063 - val_loss: 0.3105\n",
      "Epoch 18/30\n",
      "2421/2421 [==============================] - 146s 60ms/step - loss: 0.3029 - val_loss: 0.3098\n",
      "Epoch 19/30\n",
      "2421/2421 [==============================] - 146s 60ms/step - loss: 0.3001 - val_loss: 0.3097\n",
      "Epoch 20/30\n",
      "2421/2421 [==============================] - 146s 60ms/step - loss: 0.2966 - val_loss: 0.3081\n",
      "Epoch 21/30\n",
      "2421/2421 [==============================] - 146s 60ms/step - loss: 0.2931 - val_loss: 0.3085\n",
      "Epoch 22/30\n",
      "2421/2421 [==============================] - 146s 60ms/step - loss: 0.2901 - val_loss: 0.3074\n",
      "Epoch 23/30\n",
      "2421/2421 [==============================] - 146s 60ms/step - loss: 0.2871 - val_loss: 0.3070\n",
      "Epoch 24/30\n",
      "2421/2421 [==============================] - 146s 60ms/step - loss: 0.2843 - val_loss: 0.3067\n",
      "Epoch 25/30\n",
      "2421/2421 [==============================] - 146s 60ms/step - loss: 0.2807 - val_loss: 0.3070\n",
      "Epoch 26/30\n",
      "2421/2421 [==============================] - 146s 60ms/step - loss: 0.2774 - val_loss: 0.3056\n",
      "Epoch 27/30\n",
      "2421/2421 [==============================] - 146s 60ms/step - loss: 0.2739 - val_loss: 0.3055\n",
      "Epoch 28/30\n",
      "2421/2421 [==============================] - 146s 60ms/step - loss: 0.2707 - val_loss: 0.3052\n",
      "Epoch 29/30\n",
      "2421/2421 [==============================] - 146s 60ms/step - loss: 0.2679 - val_loss: 0.3052\n",
      "Epoch 30/30\n",
      "2421/2421 [==============================] - 146s 60ms/step - loss: 0.2645 - val_loss: 0.3052\n"
     ]
    },
    {
     "data": {
      "text/plain": [
       "<Figure size 640x480 with 1 Axes>"
      ]
     },
     "metadata": {},
     "output_type": "display_data"
    }
   ],
   "source": [
    "#Remove attention\n",
    "\n",
    "from keras.models import Model \n",
    "from keras.layers import Average, Input, GRU, Dense, TimeDistributed, Add, Activation, RepeatVector, Flatten, Permute, Lambda, Multiply, Concatenate\n",
    "from keras import backend as K\n",
    "import matplotlib.pyplot as plt \n",
    "\n",
    "# a ----> attention of findings encoder\n",
    "n_features = 100\n",
    "epochs = 30\n",
    "batch_size = 60\n",
    "\n",
    "##ENCODER\n",
    "encoder_inputs = Input(shape = (findings_MAXLEN,), dtype = 'float32')\n",
    "\n",
    "encoder_embeds = embedding_layer(encoder_inputs)\n",
    "\n",
    "forward_Encoder = GRU(100, return_sequences = False, return_state = True)\n",
    "backward_Encoder = GRU(100, return_sequences = False, return_state = True, go_backwards = True)\n",
    "\n",
    "forward_encoder_states, forward_h = forward_Encoder(encoder_embeds) #return state is by default True\n",
    "backward_encoder_states, backward_h = backward_Encoder(encoder_embeds)\n",
    "\n",
    "encoder_state = Concatenate()([forward_h, backward_h])\n",
    "\n",
    "state = encoder_state\n",
    "#__________#__________#__________#__________#__________#_________#__________#__________#_______________________________________________________\n",
    "\n",
    "##DECODER\n",
    "decoder_input = Input(shape = (1,len(common_vocab),), dtype = 'float32')\n",
    "\n",
    "Decoder = GRU(200, return_sequences = True, return_state = True)\n",
    "\n",
    "densor = Dense(len(common_vocab), activation = 'softmax')\n",
    "\n",
    "all_outputs = []\n",
    "input_ = decoder_input\n",
    "\n",
    "for _ in range(impression_MAXLEN):\n",
    "    \n",
    "    decoder_output, s = Decoder(input_, initial_state = state)\n",
    "    \n",
    "    output = densor(decoder_output)\n",
    "    \n",
    "    all_outputs.append(output)\n",
    "    \n",
    "    input_ = output\n",
    "    \n",
    "    state = s\n",
    "    \n",
    "decoder_outputs = Lambda(lambda x: K.concatenate(x, axis = 1))(all_outputs)\n",
    "#_________#__________#___________#__________#__________#__________#__________#__________#______________________________________________________\n",
    "\n",
    "model = Model(inputs = [encoder_inputs, decoder_input], outputs = decoder_outputs)\n",
    "\n",
    "model.compile(optimizer = 'adam', loss = 'categorical_crossentropy')\n",
    "\n",
    "decoder_input_data = np.zeros((len(impression), 1, len(common_vocab))) \n",
    "decoder_input_data[:, 0, word_2_index['start']] = 1\n",
    "\n",
    "fit_model = model.fit([findings_data, decoder_input_data], target_data, batch_size = batch_size, epochs = epochs, verbose = 1, shuffle = True, validation_split = 0.1)\n",
    "\n",
    "#model.save('vanilla.h5')\n",
    "\n",
    "training_loss = fit_model.history['loss']\n",
    "\n",
    "epoch_range = range(1, len(training_loss) + 1)\n",
    "\n",
    "plt.plot(epoch_range, training_loss, 'r--')\n",
    "plt.legend(['Loss vs Epochs'])\n",
    "plt.xlabel('Epochs')\n",
    "plt.ylabel('Loss')\n",
    "plt.show()"
   ]
  },
  {
   "cell_type": "code",
   "execution_count": 19,
   "metadata": {
    "_uuid": "a277c5e524f9fa8714c290f947ef1f221d378c03"
   },
   "outputs": [],
   "source": [
    "finding = \"Lungs are clear bilaterally with no focal infiltrate , pleural effusion , or pneumothoraces . Cardiomediastinal silhouette is within normal limits . XXXX and soft tissues are unremarkable . \"\n",
    "finding_test = ''\n",
    "for word in finding.split():\n",
    "    finding_test = finding_test + word.lower() + ' '\n",
    "\n",
    "finding_test_data = np.zeros((1, findings_MAXLEN), dtype='float32')\n",
    "\n",
    "for t, word in enumerate(nltk.word_tokenize(finding_test)):\n",
    "    finding_test_data[0, t] = word_2_index[word]\n",
    "\n",
    "sos_tag_data = np.zeros((len(impression), 1, len(common_vocab)))\n",
    "sos_tag_data[:, 0, word_2_index['start']] = 1"
   ]
  },
  {
   "cell_type": "code",
   "execution_count": 21,
   "metadata": {
    "_uuid": "bf8e3f6b7c1140802bcdfea40171f9f541d8fa70"
   },
   "outputs": [],
   "source": [
    "x = model.predict([finding_test_data,sos_tag_data])"
   ]
  },
  {
   "cell_type": "code",
   "execution_count": 29,
   "metadata": {},
   "outputs": [],
   "source": [
    "def getImpression(model, Finding):\n",
    "    Finding_test = ''\n",
    "    \n",
    "    IMPRESSION = ''\n",
    "    \n",
    "    for word in Finding.split():\n",
    "        Finding_test = Finding_test + word.lower() + ' '\n",
    "\n",
    "    Finding_test_data = np.zeros((1, findings_MAXLEN), dtype='float32')\n",
    "\n",
    "    for t, word in enumerate(nltk.word_tokenize(Finding_test)):\n",
    "        Finding_test_data[0, t] = word_2_index[word]\n",
    "\n",
    "    sos_tag_data = np.zeros((len(impression), 1, len(common_vocab)))\n",
    "    sos_tag_data[:, 0, word_2_index['start']] = 1\n",
    "    \n",
    "    output_seq = model.predict([Finding_test_data,sos_tag_data])\n",
    "    \n",
    "    for i in range(impression_MAXLEN):\n",
    "        sampled_word = index_2_word[np.argmax(output_seq[0,i,:])]\n",
    "        if(sampled_word == 'stop'):\n",
    "            break\n",
    "        IMPRESSION = IMPRESSION + sampled_word + ' '\n",
    "        \n",
    "    return IMPRESSION"
   ]
  },
  {
   "cell_type": "code",
   "execution_count": 56,
   "metadata": {},
   "outputs": [
    {
     "name": "stdout",
     "output_type": "stream",
     "text": [
      "no acute disease . \n"
     ]
    }
   ],
   "source": [
    "finding = \"The heart is normal in size . The mediastinum is stable . XXXX sternotomy changes are again noted . The lungs are clear of focal infiltrates . There is no pleural effusion . \"\n",
    "result = getImpression(model, finding)\n",
    "print(result)"
   ]
  },
  {
   "cell_type": "code",
   "execution_count": 20,
   "metadata": {},
   "outputs": [],
   "source": [
    "def showTrainingLossPlot(Fit_model):\n",
    "    training_loss = Fit_model.history['loss']\n",
    "\n",
    "    epoch_range = range(1, len(training_loss) + 1)\n",
    "\n",
    "    plt.plot(epoch_range, training_loss, 'r--')\n",
    "    plt.legend(['Loss vs Epochs'])\n",
    "    plt.xlabel('Epochs')\n",
    "    plt.ylabel('Loss')\n",
    "    plt.show()"
   ]
  },
  {
   "cell_type": "code",
   "execution_count": 21,
   "metadata": {},
   "outputs": [
    {
     "data": {
      "image/png": "[encoded data removed]",
      "text/plain": [
       "<Figure size 432x288 with 1 Axes>"
      ]
     },
     "metadata": {
      "needs_background": "light"
     },
     "output_type": "display_data"
    }
   ],
   "source": [
    "showTrainingLossPlot(fit_model)"
   ]
  },
  {
   "cell_type": "code",
   "execution_count": null,
   "metadata": {},
   "outputs": [],
   "source": []
  },
  {
   "cell_type": "code",
   "execution_count": null,
   "metadata": {},
   "outputs": [],
   "source": []
  },
  {
   "cell_type": "code",
   "execution_count": null,
   "metadata": {},
   "outputs": [],
   "source": []
  },
  {
   "cell_type": "code",
   "execution_count": null,
   "metadata": {},
   "outputs": [],
   "source": []
  },
  {
   "cell_type": "code",
   "execution_count": null,
   "metadata": {},
   "outputs": [],
   "source": []
  },
  {
   "cell_type": "code",
   "execution_count": null,
   "metadata": {},
   "outputs": [],
   "source": []
  },
  {
   "cell_type": "code",
   "execution_count": 52,
   "metadata": {},
   "outputs": [
    {
     "ename": "KeyboardInterrupt",
     "evalue": "",
     "output_type": "error",
     "traceback": [
      "\u001b[0;31m---------------------------------------------------------------------------\u001b[0m",
      "\u001b[0;31mKeyboardInterrupt\u001b[0m                         Traceback (most recent call last)",
      "\u001b[0;32m<ipython-input-52-e6c4a7146be2>\u001b[0m in \u001b[0;36m<module>\u001b[0;34m()\u001b[0m\n\u001b[0;32m----> 1\u001b[0;31m \u001b[0mx\u001b[0m \u001b[0;34m=\u001b[0m \u001b[0minput\u001b[0m\u001b[0;34m(\u001b[0m\u001b[0;34m\"ENter n\"\u001b[0m\u001b[0;34m)\u001b[0m\u001b[0;34m\u001b[0m\u001b[0m\n\u001b[0m",
      "\u001b[0;32m/usr/local/lib/python2.7/dist-packages/ipykernel/ipkernel.pyc\u001b[0m in \u001b[0;36m<lambda>\u001b[0;34m(prompt)\u001b[0m\n\u001b[1;32m    174\u001b[0m             \u001b[0mself\u001b[0m\u001b[0;34m.\u001b[0m\u001b[0m_sys_eval_input\u001b[0m \u001b[0;34m=\u001b[0m \u001b[0mbuiltin_mod\u001b[0m\u001b[0;34m.\u001b[0m\u001b[0minput\u001b[0m\u001b[0;34m\u001b[0m\u001b[0m\n\u001b[1;32m    175\u001b[0m             \u001b[0mbuiltin_mod\u001b[0m\u001b[0;34m.\u001b[0m\u001b[0mraw_input\u001b[0m \u001b[0;34m=\u001b[0m \u001b[0mself\u001b[0m\u001b[0;34m.\u001b[0m\u001b[0mraw_input\u001b[0m\u001b[0;34m\u001b[0m\u001b[0m\n\u001b[0;32m--> 176\u001b[0;31m             \u001b[0mbuiltin_mod\u001b[0m\u001b[0;34m.\u001b[0m\u001b[0minput\u001b[0m \u001b[0;34m=\u001b[0m \u001b[0;32mlambda\u001b[0m \u001b[0mprompt\u001b[0m\u001b[0;34m=\u001b[0m\u001b[0;34m''\u001b[0m\u001b[0;34m:\u001b[0m \u001b[0meval\u001b[0m\u001b[0;34m(\u001b[0m\u001b[0mself\u001b[0m\u001b[0;34m.\u001b[0m\u001b[0mraw_input\u001b[0m\u001b[0;34m(\u001b[0m\u001b[0mprompt\u001b[0m\u001b[0;34m)\u001b[0m\u001b[0;34m)\u001b[0m\u001b[0;34m\u001b[0m\u001b[0m\n\u001b[0m\u001b[1;32m    177\u001b[0m         \u001b[0mself\u001b[0m\u001b[0;34m.\u001b[0m\u001b[0m_save_getpass\u001b[0m \u001b[0;34m=\u001b[0m \u001b[0mgetpass\u001b[0m\u001b[0;34m.\u001b[0m\u001b[0mgetpass\u001b[0m\u001b[0;34m\u001b[0m\u001b[0m\n\u001b[1;32m    178\u001b[0m         \u001b[0mgetpass\u001b[0m\u001b[0;34m.\u001b[0m\u001b[0mgetpass\u001b[0m \u001b[0;34m=\u001b[0m \u001b[0mself\u001b[0m\u001b[0;34m.\u001b[0m\u001b[0mgetpass\u001b[0m\u001b[0;34m\u001b[0m\u001b[0m\n",
      "\u001b[0;32m/usr/local/lib/python2.7/dist-packages/ipykernel/kernelbase.pyc\u001b[0m in \u001b[0;36mraw_input\u001b[0;34m(self, prompt)\u001b[0m\n\u001b[1;32m    702\u001b[0m             \u001b[0mself\u001b[0m\u001b[0;34m.\u001b[0m\u001b[0m_parent_ident\u001b[0m\u001b[0;34m,\u001b[0m\u001b[0;34m\u001b[0m\u001b[0m\n\u001b[1;32m    703\u001b[0m             \u001b[0mself\u001b[0m\u001b[0;34m.\u001b[0m\u001b[0m_parent_header\u001b[0m\u001b[0;34m,\u001b[0m\u001b[0;34m\u001b[0m\u001b[0m\n\u001b[0;32m--> 704\u001b[0;31m             \u001b[0mpassword\u001b[0m\u001b[0;34m=\u001b[0m\u001b[0mFalse\u001b[0m\u001b[0;34m,\u001b[0m\u001b[0;34m\u001b[0m\u001b[0m\n\u001b[0m\u001b[1;32m    705\u001b[0m         )\n\u001b[1;32m    706\u001b[0m \u001b[0;34m\u001b[0m\u001b[0m\n",
      "\u001b[0;32m/usr/local/lib/python2.7/dist-packages/ipykernel/kernelbase.pyc\u001b[0m in \u001b[0;36m_input_request\u001b[0;34m(self, prompt, ident, parent, password)\u001b[0m\n\u001b[1;32m    732\u001b[0m             \u001b[0;32mexcept\u001b[0m \u001b[0mKeyboardInterrupt\u001b[0m\u001b[0;34m:\u001b[0m\u001b[0;34m\u001b[0m\u001b[0m\n\u001b[1;32m    733\u001b[0m                 \u001b[0;31m# re-raise KeyboardInterrupt, to truncate traceback\u001b[0m\u001b[0;34m\u001b[0m\u001b[0;34m\u001b[0m\u001b[0m\n\u001b[0;32m--> 734\u001b[0;31m                 \u001b[0;32mraise\u001b[0m \u001b[0mKeyboardInterrupt\u001b[0m\u001b[0;34m\u001b[0m\u001b[0m\n\u001b[0m\u001b[1;32m    735\u001b[0m             \u001b[0;32melse\u001b[0m\u001b[0;34m:\u001b[0m\u001b[0;34m\u001b[0m\u001b[0m\n\u001b[1;32m    736\u001b[0m                 \u001b[0;32mbreak\u001b[0m\u001b[0;34m\u001b[0m\u001b[0m\n",
      "\u001b[0;31mKeyboardInterrupt\u001b[0m: "
     ]
    }
   ],
   "source": []
  },
  {
   "cell_type": "code",
   "execution_count": null,
   "metadata": {},
   "outputs": [],
   "source": []
  }
 ],
 "metadata": {
  "kernelspec": {
   "display_name": "Python 3",
   "language": "python",
   "name": "python3"
  },
  "language_info": {
   "codemirror_mode": {
    "name": "ipython",
    "version": 2
   },
   "file_extension": ".py",
   "mimetype": "text/x-python",
   "name": "python",
   "nbconvert_exporter": "python",
   "pygments_lexer": "ipython2",
   "version": "2.7.14"
  }
 },
 "nbformat": 4,
 "nbformat_minor": 1
}

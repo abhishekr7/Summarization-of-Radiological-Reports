{
 "cells": [
  {
   "cell_type": "code",
   "execution_count": 1,
   "metadata": {
    "_uuid": "6adccc17bbe02071d921a447ffa4708ed3ad1c6c"
   },
   "outputs": [
    {
     "name": "stderr",
     "output_type": "stream",
     "text": [
      "Using TensorFlow backend.\n"
     ]
    }
   ],
   "source": [
    "from __future__ import print_function\n",
    "import jsonlines\n",
    "import re\n",
    "import json\n",
    "import nltk\n",
    "import io\n",
    "import numpy as np\n",
    "from keras.layers import Embedding\n",
    "from keras.initializers import Constant\n",
    "from keras.preprocessing.text import Tokenizer\n",
    "from keras.preprocessing.sequence import pad_sequences"
   ]
  },
  {
   "cell_type": "code",
   "execution_count": 2,
   "metadata": {
    "_uuid": "daad741f9949a185c5278851637f0bab7e7b4c57"
   },
   "outputs": [],
   "source": [
    "# start - <sos> tag\n",
    "# stop - <eos> tag\n",
    "\n",
    "#split records into list of impression, findings\n",
    "def splitReports(File):\n",
    "    \n",
    "    impression_list = []\n",
    "    findings_list = []\n",
    "    \n",
    "    with open(File,'r') as file:\n",
    "        for line in file:\n",
    "            all = line\n",
    "        \n",
    "    report_list = re.findall(r'{.*?}',all)\n",
    "\n",
    "    for report in report_list:\n",
    "        obj = json.loads(report)\n",
    "        # indication_list.append(str(obj['Indication']))\n",
    "        impression_list.append('start ' + str(obj['impression']) + ' stop')\n",
    "        findings_list.append(str(obj['findings']))\n",
    "        \n",
    "    return (findings_list, impression_list)    "
   ]
  },
  {
   "cell_type": "code",
   "execution_count": 3,
   "metadata": {
    "_uuid": "ec3a975f695b3a5a82b41014c847cf14cb0461f3"
   },
   "outputs": [],
   "source": [
    "#get vocab of indications, impression, findings\n",
    "def getVocabularySets(findings_list, impression_list):\n",
    "    # indication_vocab_set = set()\n",
    "    impression_vocab_set = set()\n",
    "    findings_vocab_set = set()\n",
    "    common_vocab_set = set()\n",
    "\n",
    "    #for item in indication_list:\n",
    "     #   for word in nltk.word_tokenize(item):\n",
    "      #      indication_vocab_set.add(word.lower())\n",
    "        \n",
    "    for item in impression_list:\n",
    "        for word in nltk.word_tokenize(item):\n",
    "            impression_vocab_set.add(word.lower())\n",
    "        \n",
    "    for item in findings_list:\n",
    "        for word in nltk.word_tokenize(item):\n",
    "            findings_vocab_set.add(word.lower())\n",
    "        \n",
    "    # common_vocab_set.update(indication_vocab_set)\n",
    "    common_vocab_set.update(impression_vocab_set)\n",
    "    common_vocab_set.update(findings_vocab_set)\n",
    "    \n",
    "    return (common_vocab_set, findings_vocab_set, impression_vocab_set)"
   ]
  },
  {
   "cell_type": "code",
   "execution_count": 4,
   "metadata": {
    "_uuid": "7c60d799f7b363eab1f826019eb0282ddc87ee1e"
   },
   "outputs": [],
   "source": [
    "# get the embedding  matrix\n",
    "def loadGloVeModel(gloVe_file):\n",
    "    embedding_model = {}\n",
    "    \n",
    "    with io.open(gloVe_file, encoding = 'utf8') as f:\n",
    "        word_embeddings = f.readlines()\n",
    "        \n",
    "    for word_embedding_line in word_embeddings:\n",
    "        word_embedding = word_embedding_line.split()\n",
    "        word = word_embedding[0]\n",
    "        embedding = np.array([float(col) for col in word_embedding[1:]])\n",
    "        embedding_model[word] = embedding\n",
    "            \n",
    "    return embedding_model"
   ]
  },
  {
   "cell_type": "code",
   "execution_count": 5,
   "metadata": {
    "_uuid": "91e57d58914e00a5b15238d3e60a8225b3fcee17"
   },
   "outputs": [],
   "source": [
    "#get max sequences \n",
    "def getMaxSeq(List):\n",
    "        \n",
    "    max_len = 0\n",
    "    for item in List:\n",
    "        item_len = len(item.split())\n",
    "        if item_len > max_len:\n",
    "            max_len = item_len\n",
    "    \n",
    "    return max_len"
   ]
  },
  {
   "cell_type": "code",
   "execution_count": 6,
   "metadata": {
    "_uuid": "f22a8169e27f95eca6e1f3ca463883ed6fd2e81a"
   },
   "outputs": [
    {
     "ename": "NameError",
     "evalue": "name 'max_findings_len' is not defined",
     "output_type": "error",
     "traceback": [
      "\u001b[0;31m---------------------------------------------------------------------------\u001b[0m",
      "\u001b[0;31mNameError\u001b[0m                                 Traceback (most recent call last)",
      "\u001b[0;32m<ipython-input-6-340b92367735>\u001b[0m in \u001b[0;36m<module>\u001b[0;34m()\u001b[0m\n\u001b[1;32m     11\u001b[0m \u001b[0mimpression_MAXLEN\u001b[0m \u001b[0;34m=\u001b[0m \u001b[0mgetMaxSeq\u001b[0m\u001b[0;34m(\u001b[0m\u001b[0mimpression\u001b[0m\u001b[0;34m)\u001b[0m\u001b[0;34m\u001b[0m\u001b[0m\n\u001b[1;32m     12\u001b[0m \u001b[0;34m\u001b[0m\u001b[0m\n\u001b[0;32m---> 13\u001b[0;31m \u001b[0mMAXLEN\u001b[0m \u001b[0;34m=\u001b[0m \u001b[0mmax\u001b[0m\u001b[0;34m(\u001b[0m\u001b[0mmax_findings_len\u001b[0m\u001b[0;34m,\u001b[0m \u001b[0mmax_impression_len\u001b[0m\u001b[0;34m)\u001b[0m\u001b[0;34m\u001b[0m\u001b[0m\n\u001b[0m\u001b[1;32m     14\u001b[0m \u001b[0;31m#MAX_LEN = 100 #99\u001b[0m\u001b[0;34m\u001b[0m\u001b[0;34m\u001b[0m\u001b[0m\n",
      "\u001b[0;31mNameError\u001b[0m: name 'max_findings_len' is not defined"
     ]
    }
   ],
   "source": [
    "findings, impression = splitReports('reports.jsonl')\n",
    "common_vocab, findings_vocab, impression_vocab = getVocabularySets(findings, impression)\n",
    "\n",
    "common = []\n",
    "common.extend(findings)\n",
    "#common.extend(indications)\n",
    "common.extend(impression)\n",
    "\n",
    "#max_indication_len = getMaxSeq(indications)\n",
    "findings_MAXLEN = getMaxSeq(findings)\n",
    "impression_MAXLEN = getMaxSeq(impression)\n",
    "\n",
    "MAXLEN = max(max_findings_len, max_impression_len)\n",
    "#MAX_LEN = 100 #99"
   ]
  },
  {
   "cell_type": "code",
   "execution_count": 7,
   "metadata": {
    "_uuid": "dfb99325e47cbe50feb42a8f3ea2c36666c14414"
   },
   "outputs": [
    {
     "data": {
      "text/plain": [
       "139"
      ]
     },
     "execution_count": 7,
     "metadata": {},
     "output_type": "execute_result"
    }
   ],
   "source": [
    "\n",
    "#embedding_model = loadGloVeModel('radglove.800M.100d.txt')\n",
    "#findings_MAXLEN\n",
    "impression_MAXLEN"
   ]
  },
  {
   "cell_type": "code",
   "execution_count": 8,
   "metadata": {
    "_uuid": "317a3081e58814441368cad34e89ce72228a2c3e"
   },
   "outputs": [
    {
     "data": {
      "text/plain": [
       "187"
      ]
     },
     "execution_count": 8,
     "metadata": {},
     "output_type": "execute_result"
    }
   ],
   "source": [
    "#embedding dimension\n",
    "#EMBEDDING_DIM = 100\n",
    "\n",
    "findings_MAXLEN"
   ]
  },
  {
   "cell_type": "code",
   "execution_count": 9,
   "metadata": {
    "_uuid": "e41adc6f0924b77a4c4a9a9f533ad3dae4c4d84c"
   },
   "outputs": [],
   "source": [
    "#tokenizer = Tokenizer()\n",
    "#tokenizer.fit_on_texts(common)\n",
    "\n",
    "#word_to_index = tokenizer.word_index\n",
    "\n",
    "#indication_sequences = tokenizer.texts_to_sequences(indications)\n",
    "\n",
    "#findings_sequences = tokenizer.texts_to_sequences(findings)\n",
    "#impression_sequences = tokenizer.texts_to_sequences(impression)\n",
    "\n",
    "#indication_data = pad_sequences(indication_sequences, maxlen = MAXLEN)\n",
    "\n",
    "#findings_data = pad_sequences(findings_sequences, maxlen = MAX_LEN)\n",
    "#impression_data = pad_sequences(impression_sequences, maxlen = MAX_LEN)\n",
    "\n",
    "word_2_index = dict([(word, i) for i, word in enumerate(common_vocab)])"
   ]
  },
  {
   "cell_type": "code",
   "execution_count": 10,
   "metadata": {
    "_uuid": "fd347110b455a24b64b0532e5818f58b62e5bdc3"
   },
   "outputs": [],
   "source": [
    "index_2_word = {}\n",
    "for word,index in word_2_index.items():\n",
    "    index_2_word[index] = word"
   ]
  },
  {
   "cell_type": "code",
   "execution_count": 11,
   "metadata": {
    "_uuid": "1c6b605ae1459c0e6bf313391fa6e3909ba888ee"
   },
   "outputs": [],
   "source": [
    "embedding_model = loadGloVeModel('radglove.800M.100d.txt')\n",
    "\n",
    "EMBEDDING_DIM = 100\n",
    "\n",
    "embedding_matrix = np.zeros((len(common_vocab),EMBEDDING_DIM))\n",
    "inverse_embedding_matrix = np.zeros((EMBEDDING_DIM, len(common_vocab)))\n",
    "\n",
    "inverse_embedding_matrix = {}\n",
    "for word,index in word_2_index.items():\n",
    "    embedding_vector = embedding_model.get(word)\n",
    "    \n",
    "    if embedding_vector is not None :\n",
    "        embedding_matrix[index] = embedding_vector"
   ]
  },
  {
   "cell_type": "code",
   "execution_count": 41,
   "metadata": {
    "_uuid": "6eb9910aca58350a97bef6eb153bfcd51ece56bc"
   },
   "outputs": [],
   "source": [
    "# check doc.s once\n",
    "# trainable=False to prevent the weights from being updated during training\n",
    "embedding_layer = Embedding(len(common_vocab), EMBEDDING_DIM, embeddings_initializer=Constant(embedding_matrix), trainable=False)"
   ]
  },
  {
   "cell_type": "code",
   "execution_count": 25,
   "metadata": {
    "_uuid": "e95e6c2ae4d6d7f07b5ccaedeb40d19939047f8f"
   },
   "outputs": [],
   "source": [
    "#verify tokenization\n",
    "\n",
    "def getEmbeddingVec(word, embedding_matrix):\n",
    "    # Get embedding matrix of a particular word \n",
    "    return embedding_matrix[word_2_index[word]]\n",
    "\n",
    "def sampleToken(X, embedding_matrix):\n",
    "    #Sample the word from embedding matrix\n",
    "    for index,embedding_vec in enumerate(embedding_matrix):\n",
    "        if cmp(X.tolist(),embedding_vec.tolist()) == 0:\n",
    "            return index_2_word[index]"
   ]
  },
  {
   "cell_type": "code",
   "execution_count": 26,
   "metadata": {
    "_uuid": "fa26e4a6445b9be3b6684bf2274f031a9223e9bb"
   },
   "outputs": [],
   "source": [
    "findings_data = np.zeros(\n",
    "    (len(findings), findings_MAXLEN),\n",
    "    dtype='float32')\n",
    "impression_data = np.zeros(\n",
    "    (len(impression), impression_MAXLEN),\n",
    "    dtype='float32')\n",
    "target_data = np.zeros(\n",
    "    (len(impression), impression_MAXLEN),\n",
    "    dtype='float32')"
   ]
  },
  {
   "cell_type": "code",
   "execution_count": 27,
   "metadata": {
    "_uuid": "16cfffcd6e15616dfb944ef43c9b1628573deb9d"
   },
   "outputs": [
    {
     "data": {
      "text/plain": [
       "'start no acute cardiopulmonary abnormality . stop '"
      ]
     },
     "execution_count": 27,
     "metadata": {},
     "output_type": "execute_result"
    }
   ],
   "source": [
    "impression[0]"
   ]
  },
  {
   "cell_type": "code",
   "execution_count": 28,
   "metadata": {
    "_uuid": "178b2293f0180d62a66a7855094c46ba59f359fd"
   },
   "outputs": [],
   "source": [
    "def toLowerCase(findings, impression):\n",
    "    new_findings = []\n",
    "    new_impression = []\n",
    "    for sent in findings:\n",
    "        new_sent = \"\"\n",
    "        for word in sent.split():\n",
    "            new_sent = new_sent + word.lower() + ' '\n",
    "        new_findings.append(new_sent) \n",
    "\n",
    "    for sent in impression:\n",
    "        new_sent = \"\"\n",
    "        for word in sent.split():\n",
    "            new_sent = new_sent + word.lower() + ' '\n",
    "        new_impression.append(new_sent)\n",
    "        \n",
    "    return (new_findings, new_impression)\n",
    "\n",
    "findings, impression = toLowerCase(findings, impression)"
   ]
  },
  {
   "cell_type": "code",
   "execution_count": 29,
   "metadata": {
    "_uuid": "e54c802b3fbe68a86adc3fa6917aea4bb8f221d4"
   },
   "outputs": [],
   "source": [
    "for i, (FINDINGS, IMPRESSION) in enumerate(zip(findings, impression)):\n",
    "    for t, word in enumerate(nltk.word_tokenize(FINDINGS)):\n",
    "        findings_data[i, t] = word_2_index[word]\n",
    "    for t, word in enumerate(nltk.word_tokenize(IMPRESSION)):\n",
    "        impression_data[i, t] = word_2_index[word]\n",
    "        \n",
    "        if t > 0:\n",
    "            target_data[i, t-1] = word_2_index[word]"
   ]
  },
  {
   "cell_type": "code",
   "execution_count": 30,
   "metadata": {
    "_uuid": "8e39c093ddefd469d1b507b30ba9ea444d9bbd74"
   },
   "outputs": [
    {
     "data": {
      "text/plain": [
       "(2691, 187)"
      ]
     },
     "execution_count": 30,
     "metadata": {},
     "output_type": "execute_result"
    }
   ],
   "source": [
    "findings_data.shape"
   ]
  },
  {
   "cell_type": "code",
   "execution_count": 31,
   "metadata": {
    "_uuid": "7850330f0e61a29f8867f17b53da6c3a0694dd78"
   },
   "outputs": [
    {
     "data": {
      "text/plain": [
       "(2691, 139)"
      ]
     },
     "execution_count": 31,
     "metadata": {},
     "output_type": "execute_result"
    }
   ],
   "source": [
    "impression_data.shape"
   ]
  },
  {
   "cell_type": "code",
   "execution_count": 53,
   "metadata": {
    "_uuid": "85a4ac3a6bcdc6b3fec1b1629e5c52acc25a5186"
   },
   "outputs": [
    {
     "name": "stdout",
     "output_type": "stream",
     "text": [
      "Train on 2421 samples, validate on 270 samples\n",
      "Epoch 1/30\n",
      "2421/2421 [==============================] - 22s 9ms/step - loss: 30342.4759 - val_loss: 26770.9820\n",
      "Epoch 2/30\n",
      "2421/2421 [==============================] - 32s 13ms/step - loss: 27937.3526 - val_loss: 25950.7845\n",
      "Epoch 3/30\n",
      "2421/2421 [==============================] - 21s 8ms/step - loss: 26418.2320 - val_loss: 23972.5645\n",
      "Epoch 4/30\n",
      "2421/2421 [==============================] - 21s 9ms/step - loss: 25106.7772 - val_loss: 23354.1918\n",
      "Epoch 5/30\n",
      "2421/2421 [==============================] - 20s 8ms/step - loss: 24654.6033 - val_loss: 23075.8754\n",
      "Epoch 6/30\n",
      "2421/2421 [==============================] - 19s 8ms/step - loss: 24423.4473 - val_loss: 22728.0694\n",
      "Epoch 7/30\n",
      "2421/2421 [==============================] - 19s 8ms/step - loss: 24161.9454 - val_loss: 22637.8343\n",
      "Epoch 8/30\n",
      "2421/2421 [==============================] - 19s 8ms/step - loss: 23998.4558 - val_loss: 22394.5840\n",
      "Epoch 9/30\n",
      "2421/2421 [==============================] - 19s 8ms/step - loss: 23872.0036 - val_loss: 22314.4238\n",
      "Epoch 10/30\n",
      "2421/2421 [==============================] - 19s 8ms/step - loss: 23854.6305 - val_loss: 22279.9508\n",
      "Epoch 11/30\n",
      "2421/2421 [==============================] - 19s 8ms/step - loss: 23686.9052 - val_loss: 22210.0858\n",
      "Epoch 12/30\n",
      "2421/2421 [==============================] - 19s 8ms/step - loss: 23645.7328 - val_loss: 22165.1343\n",
      "Epoch 13/30\n",
      "2421/2421 [==============================] - 19s 8ms/step - loss: 23532.3325 - val_loss: 22051.2894\n",
      "Epoch 14/30\n",
      "2421/2421 [==============================] - 21s 9ms/step - loss: 23475.2350 - val_loss: 22090.0378\n",
      "Epoch 15/30\n",
      "2421/2421 [==============================] - 19s 8ms/step - loss: 23517.5266 - val_loss: 22049.2158\n",
      "Epoch 16/30\n",
      "2421/2421 [==============================] - 18s 8ms/step - loss: 23367.4368 - val_loss: 21924.5372\n",
      "Epoch 17/30\n",
      "2421/2421 [==============================] - 18s 8ms/step - loss: 23325.1990 - val_loss: 21876.3384\n",
      "Epoch 18/30\n",
      "2421/2421 [==============================] - 18s 8ms/step - loss: 23276.5258 - val_loss: 21884.0342\n",
      "Epoch 19/30\n",
      "2421/2421 [==============================] - 18s 8ms/step - loss: 23229.7181 - val_loss: 21897.2890\n",
      "Epoch 20/30\n",
      "2421/2421 [==============================] - 19s 8ms/step - loss: 23183.2507 - val_loss: 21803.2225\n",
      "Epoch 21/30\n",
      "2421/2421 [==============================] - 18s 8ms/step - loss: 23169.3109 - val_loss: 21821.9378\n",
      "Epoch 22/30\n",
      "2421/2421 [==============================] - 19s 8ms/step - loss: 23151.4760 - val_loss: 21774.8666\n",
      "Epoch 23/30\n",
      "2421/2421 [==============================] - 20s 8ms/step - loss: 23099.9148 - val_loss: 21779.3745\n",
      "Epoch 24/30\n",
      "2421/2421 [==============================] - 23s 9ms/step - loss: 23085.5634 - val_loss: 21799.3357\n",
      "Epoch 25/30\n",
      "2421/2421 [==============================] - 18s 8ms/step - loss: 23051.1465 - val_loss: 21717.5410\n",
      "Epoch 26/30\n",
      "2421/2421 [==============================] - 18s 8ms/step - loss: 23028.4611 - val_loss: 21757.8303\n",
      "Epoch 27/30\n",
      "2421/2421 [==============================] - 18s 8ms/step - loss: 23022.5716 - val_loss: 21683.0348\n",
      "Epoch 28/30\n",
      "2421/2421 [==============================] - 18s 8ms/step - loss: 22979.2279 - val_loss: 21724.6464\n",
      "Epoch 29/30\n",
      "2421/2421 [==============================] - 18s 8ms/step - loss: 22975.4472 - val_loss: 21659.0485\n",
      "Epoch 30/30\n",
      "2421/2421 [==============================] - 20s 8ms/step - loss: 22952.0896 - val_loss: 21734.3445\n"
     ]
    },
    {
     "name": "stderr",
     "output_type": "stream",
     "text": [
      "/usr/local/lib/python2.7/dist-packages/keras/engine/network.py:877: UserWarning: Layer gru_44 was passed non-serializable keyword arguments: {'initial_state': [<tf.Tensor 'concatenate_14/concat:0' shape=(?, 200) dtype=float32>]}. They will not be included in the serialized model (and thus will be missing at deserialization time).\n",
      "  '. They will not be included '\n"
     ]
    },
    {
     "data": {
      "image/png": "[encoded data removed]",
      "text/plain": [
       "<Figure size 432x288 with 1 Axes>"
      ]
     },
     "metadata": {
      "needs_background": "light"
     },
     "output_type": "display_data"
    }
   ],
   "source": [
    "#Remove attention\n",
    "\n",
    "from keras.models import Model \n",
    "from keras.layers import Average, Input, GRU, Dense, TimeDistributed, Add, Activation, RepeatVector, Flatten, Permute, Lambda, Multiply, Concatenate\n",
    "from keras import backend as K\n",
    "import matplotlib.pyplot as plt \n",
    "\n",
    "# a ----> attention of findings encoder\n",
    "n_features = 100\n",
    "epochs = 30\n",
    "batch_size = 60\n",
    "\n",
    "##ENCODER\n",
    "encoder_inputs = Input(shape = (findings_MAXLEN,), dtype = 'int32')\n",
    "\n",
    "encoder_embeds = embedding_layer(encoder_inputs)\n",
    "\n",
    "forward_encoder_states, forward_h = GRU(100, return_sequences = True, return_state = True)(encoder_embeds) #return state is by default True\n",
    "backward_encoder_states, backward_h = GRU(100, return_sequences = True, return_state = True, go_backwards = True)(encoder_embeds)\n",
    "\n",
    "encoder_state = Concatenate()([forward_h, backward_h])\n",
    "\n",
    "#__________#__________#__________#__________#__________#_________#__________#__________#_______________________________________________________\n",
    "\n",
    "##DECODER\n",
    "decoder_inputs = Input(shape = (impression_MAXLEN,), dtype = 'int32')\n",
    "\n",
    "decoder_embeds = embedding_layer(decoder_inputs)\n",
    "\n",
    "decoder_states,state_s = GRU(200, return_sequences = False, return_state = True)(decoder_embeds, initial_state = encoder_state)\n",
    "\n",
    "decoder_outputs = Dense(impression_MAXLEN, activation = 'softmax')(decoder_states)\n",
    "\n",
    "#_________#__________#___________#__________#__________#__________#__________#__________#______________________________________________________\n",
    "\n",
    "\n",
    "\n",
    "model = Model(inputs = [encoder_inputs, decoder_inputs], outputs = decoder_outputs)\n",
    "\n",
    "model.compile(optimizer = 'adam', loss = 'categorical_crossentropy')\n",
    "\n",
    "fit_model = model.fit([findings_data, impression_data], target_data, batch_size = batch_size, epochs = epochs, verbose = 1, shuffle = True, validation_split = 0.1)\n",
    "\n",
    "model.save('vanilla.h5')\n",
    "\n",
    "training_loss = fit_model.history['loss']\n",
    "\n",
    "epoch_range = range(1, len(training_loss) + 1)\n",
    "\n",
    "plt.plot(epoch_range, training_loss, 'r--')\n",
    "plt.legend(['Loss vs Epochs'])\n",
    "plt.xlabel('Epochs')\n",
    "plt.ylabel('Loss')\n",
    "plt.show()"
   ]
  },
  {
   "cell_type": "code",
   "execution_count": null,
   "metadata": {
    "_uuid": "a277c5e524f9fa8714c290f947ef1f221d378c03"
   },
   "outputs": [],
   "source": [
    "embedding_matrix[findings_data].shape"
   ]
  },
  {
   "cell_type": "code",
   "execution_count": 330,
   "metadata": {
    "_uuid": "bf8e3f6b7c1140802bcdfea40171f9f541d8fa70"
   },
   "outputs": [
    {
     "data": {
      "text/plain": [
       "array([[ 464.,  889.,  164., ...,    0.,    0.,    0.],\n",
       "       [ 597., 1817.,  328., ...,    0.,    0.,    0.],\n",
       "       [ 464.,  889.,  164., ...,    0.,    0.,    0.],\n",
       "       ...,\n",
       "       [ 464.,  889.,  164., ...,    0.,    0.,    0.],\n",
       "       [ 887., 1461.,  993., ...,    0.,    0.,    0.],\n",
       "       [ 229., 1499., 1116., ...,    0.,    0.,    0.]], dtype=float32)"
      ]
     },
     "execution_count": 330,
     "metadata": {},
     "output_type": "execute_result"
    }
   ],
   "source": [
    "target_data"
   ]
  },
  {
   "cell_type": "code",
   "execution_count": null,
   "metadata": {},
   "outputs": [],
   "source": []
  }
 ],
 "metadata": {
  "kernelspec": {
   "display_name": "Python 3",
   "language": "python",
   "name": "python3"
  },
  "language_info": {
   "codemirror_mode": {
    "name": "ipython",
    "version": 2
   },
   "file_extension": ".py",
   "mimetype": "text/x-python",
   "name": "python",
   "nbconvert_exporter": "python",
   "pygments_lexer": "ipython2",
   "version": "2.7.14"
  }
 },
 "nbformat": 4,
 "nbformat_minor": 1
}

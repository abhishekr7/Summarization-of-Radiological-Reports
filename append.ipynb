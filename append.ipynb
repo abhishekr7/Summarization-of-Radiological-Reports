{
 "cells": [
  {
   "cell_type": "code",
   "execution_count": 1,
   "metadata": {},
   "outputs": [],
   "source": [
    "import jsonlines\n",
    "\n",
    "with open('reports_1.jsonl','r') as file1:\n",
    "    for line in file1:\n",
    "        all1 = line\n",
    "        \n",
    "with open('reports_2.jsonl','r') as file2:\n",
    "    for line in file2:\n",
    "        all2 = line\n",
    "        \n",
    "with open('reports_3.jsonl','r') as file3:\n",
    "    for line in file3:\n",
    "        all3 = line\n",
    "        \n",
    "with open('reports.jsonl','w') as file4:\n",
    "    all_ = all1 + all2 + all3\n",
    "    file4.write(all_)"
   ]
  },
  {
   "cell_type": "code",
   "execution_count": null,
   "metadata": {},
   "outputs": [],
   "source": []
  }
 ],
 "metadata": {
  "kernelspec": {
   "display_name": "Python 2",
   "language": "python",
   "name": "python2"
  },
  "language_info": {
   "codemirror_mode": {
    "name": "ipython",
    "version": 2
   },
   "file_extension": ".py",
   "mimetype": "text/x-python",
   "name": "python",
   "nbconvert_exporter": "python",
   "pygments_lexer": "ipython2",
   "version": "2.7.14"
  }
 },
 "nbformat": 4,
 "nbformat_minor": 2
}

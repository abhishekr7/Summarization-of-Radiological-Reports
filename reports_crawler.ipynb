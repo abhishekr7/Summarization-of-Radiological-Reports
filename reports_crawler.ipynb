{
 "cells": [
  {
   "cell_type": "code",
   "execution_count": 1,
   "metadata": {},
   "outputs": [],
   "source": [
    "from urllib2 import urlopen\n",
    "import time\n",
    "from selenium import webdriver\n",
    "from selenium.webdriver.chrome.options import Options\n",
    "\n",
    "from bs4 import BeautifulSoup\n",
    "import re\n",
    "import json\n",
    "import numpy as np"
   ]
  },
  {
   "cell_type": "code",
   "execution_count": 18,
   "metadata": {},
   "outputs": [],
   "source": [
    "def startWebDriver():\n",
    "    global driver\n",
    "    options = Options()\n",
    "    options.add_argument(\"--disable-extensions\")\n",
    "    driver = webdriver.Chrome(executable_path = '/home/abhishek/Downloads/chromedriver_linux64/chromedriver',options=options)\n",
    "    \n",
    "def getJSONObject(Link):\n",
    "    HTML = urlopen(Link)\n",
    "    soup = BeautifulSoup(HTML,'lxml')\n",
    "    \n",
    "    \n",
    "        \n",
    "    text = text[6:9]\n",
    "    \n",
    "    JSONObject = {}\n",
    "    #empty_JSONObject = {}\n",
    "    \n",
    "    bad_report_flag = 0\n",
    "    field_count = 0\n",
    "    \n",
    "    for item in text:\n",
    "        m = re.search('(.*): (.*)',item)\n",
    "        \n",
    "        # @ - start of sequence tag\n",
    "        # $ - end of sequence tag\n",
    "        if m and m.group(1) in ['Impression','Findings','Indication']:\n",
    "            field_count = field_count + 1\n",
    "            JSONObject[m.group(1)] = m.group(2)\n",
    "            print(m.group(1) + \" : \" + m.group(2)) \n",
    "        else:\n",
    "            bad_report_flag = 1\n",
    "            break;\n",
    "    \n",
    "    if field_count == 3 and bad_report_flag == 0:\n",
    "        return JSONObject \n",
    "    else:\n",
    "        return None"
   ]
  },
  {
   "cell_type": "code",
   "execution_count": null,
   "metadata": {},
   "outputs": [],
   "source": []
  },
  {
   "cell_type": "code",
   "execution_count": null,
   "metadata": {},
   "outputs": [
    {
     "name": "stdout",
     "output_type": "stream",
     "text": [
      "1\n",
      "//*[@id=\"grid\"]/a[1]/img\n",
      "naice\n",
      "2\n",
      "//*[@id=\"grid\"]/a[2]/img\n",
      "naice\n",
      "3\n",
      "//*[@id=\"grid\"]/a[3]/img\n",
      "naice\n",
      "4\n",
      "//*[@id=\"grid\"]/a[4]/img\n",
      "naice\n",
      "5\n",
      "//*[@id=\"grid\"]/a[5]/img\n",
      "6\n",
      "//*[@id=\"grid\"]/a[6]/img\n",
      "naice\n",
      "7\n",
      "//*[@id=\"grid\"]/a[7]/img\n",
      "naice\n",
      "8\n",
      "//*[@id=\"grid\"]/a[8]/img\n",
      "naice\n",
      "9\n",
      "//*[@id=\"grid\"]/a[9]/img\n",
      "naice\n",
      "10\n",
      "//*[@id=\"grid\"]/a[10]/img\n",
      "naice\n",
      "11\n",
      "//*[@id=\"grid\"]/a[11]/img\n",
      "12\n",
      "//*[@id=\"grid\"]/a[12]/img\n",
      "naice\n",
      "13\n"
     ]
    }
   ],
   "source": [
    "from selenium.common.exceptions import NoSuchElementException\n",
    "\n",
    "startWebDriver()\n",
    "\n",
    "with open('reports_4.jsonl', 'a') as file:\n",
    "    \n",
    "    for j in range(2,9):\n",
    "        \n",
    "        main_link = 'https://openi.nlm.nih.gov/gridquery?it=xg&at=rr&m=3' + str(j) + '01&n=3' + str(j+1) + '00'\n",
    "        driver.get(main_link)\n",
    "        time.sleep(10)\n",
    "        first = 1\n",
    "    \n",
    "        for i in range(1,101):\n",
    "            \n",
    "            print(i)\n",
    "            #get current url\n",
    "            if first != 1:\n",
    "                driver.get(main_link)\n",
    "                time.sleep(7)    # net is slow ?\n",
    "        \n",
    "            first = 0\n",
    "        \n",
    "            link_str = '//*[@id=\"grid\"]/a[' + str(i) + ']/img'\n",
    "            print(link_str)\n",
    "        \n",
    "            JSONObject = {}\n",
    "        \n",
    "            try:\n",
    "                element = driver.find_element_by_xpath(link_str).click()\n",
    "                time.sleep(5)\n",
    "            \n",
    "                findings = driver.find_element_by_xpath('//*[@id=\"content\"]/div[1]/div/div[2]/div[1]/div[2]/p[3]').text\n",
    "                findings = findings[10:len(findings)-1].encode('ascii')\n",
    "        \n",
    "                impression = driver.find_element_by_xpath('//*[@id=\"content\"]/div[1]/div/div[2]/div[1]/div[2]/p[4]').text\n",
    "                impression = impression[12:len(impression)-1].encode('ascii')\n",
    "        \n",
    "            except NoSuchElementException:\n",
    "                continue\n",
    "        \n",
    "            JSONObject['Findings'] = findings\n",
    "            JSONObject['Impression'] = impression\n",
    "        \n",
    "            print('naice')\n",
    "        \n",
    "            if(JSONObject):\n",
    "                json.dump(JSONObject , file, ensure_ascii=False)"
   ]
  },
  {
   "cell_type": "code",
   "execution_count": null,
   "metadata": {},
   "outputs": [],
   "source": []
  },
  {
   "cell_type": "code",
   "execution_count": 32,
   "metadata": {},
   "outputs": [],
   "source": []
  },
  {
   "cell_type": "code",
   "execution_count": 33,
   "metadata": {},
   "outputs": [],
   "source": []
  },
  {
   "cell_type": "code",
   "execution_count": 34,
   "metadata": {},
   "outputs": [],
   "source": []
  },
  {
   "cell_type": "code",
   "execution_count": null,
   "metadata": {},
   "outputs": [],
   "source": []
  },
  {
   "cell_type": "code",
   "execution_count": 41,
   "metadata": {},
   "outputs": [],
   "source": []
  },
  {
   "cell_type": "code",
   "execution_count": 55,
   "metadata": {},
   "outputs": [],
   "source": []
  },
  {
   "cell_type": "code",
   "execution_count": null,
   "metadata": {},
   "outputs": [],
   "source": []
  },
  {
   "cell_type": "code",
   "execution_count": null,
   "metadata": {},
   "outputs": [],
   "source": []
  },
  {
   "cell_type": "code",
   "execution_count": null,
   "metadata": {},
   "outputs": [],
   "source": []
  },
  {
   "cell_type": "code",
   "execution_count": null,
   "metadata": {},
   "outputs": [],
   "source": []
  }
 ],
 "metadata": {
  "kernelspec": {
   "display_name": "Python 3",
   "language": "python",
   "name": "python3"
  },
  "language_info": {
   "codemirror_mode": {
    "name": "ipython",
    "version": 2
   },
   "file_extension": ".py",
   "mimetype": "text/x-python",
   "name": "python",
   "nbconvert_exporter": "python",
   "pygments_lexer": "ipython2",
   "version": "2.7.14"
  }
 },
 "nbformat": 4,
 "nbformat_minor": 2
}

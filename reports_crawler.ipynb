{
 "cells": [
  {
   "cell_type": "code",
   "execution_count": 24,
   "metadata": {},
   "outputs": [],
   "source": [
    "from urllib2 import urlopen\n",
    "import time\n",
    "from selenium import webdriver\n",
    "from selenium.webdriver.chrome.options import Options\n",
    "\n",
    "from bs4 import BeautifulSoup\n",
    "import re\n",
    "import json"
   ]
  },
  {
   "cell_type": "code",
   "execution_count": 28,
   "metadata": {},
   "outputs": [],
   "source": [
    "def startWebDriver():\n",
    "    global driver\n",
    "    options = Options()\n",
    "    options.add_argument(\"--disable-extensions\")\n",
    "    driver = webdriver.Chrome(executable_path = '/home/abhishek/Downloads/chromedriver_linux64/chromedriver',options=options)\n",
    "    \n",
    "def getJSONObject(Link):\n",
    "    HTML = urlopen(Link)\n",
    "    soup = BeautifulSoup(HTML,'lxml')\n",
    "    \n",
    "    text = []\n",
    "    \n",
    "    for para in soup.find_all(\"p\"):\n",
    "        paragraph = str(para.text)\n",
    "        text.append(paragraph)\n",
    "        \n",
    "    text = text[6:9]\n",
    "    \n",
    "    JSONObject = {}\n",
    "    #empty_JSONObject = {}\n",
    "    \n",
    "    bad_report_flag = 0\n",
    "    field_count = 0\n",
    "    \n",
    "    for item in text:\n",
    "        m = re.search('(.*): (.*)',item)\n",
    "        \n",
    "        # @ - start of sequence tag\n",
    "        # $ - end of sequence tag\n",
    "        if m and m.group(1) in ['Impression','Findings','Indication']:\n",
    "            field_count = field_count + 1\n",
    "            JSONObject[m.group(1)] = m.group(2)\n",
    "        else:\n",
    "            bad_report_flag = 1\n",
    "            break;\n",
    "    \n",
    "    if field_count == 3 and bad_report_flag == 0:\n",
    "        return JSONObject \n",
    "    else:\n",
    "        return None"
   ]
  },
  {
   "cell_type": "code",
   "execution_count": null,
   "metadata": {},
   "outputs": [],
   "source": [
    "startWebDriver()\n",
    "driver.get('https://openi.nlm.nih.gov/gridquery.php?q=&coll=cxr')\n",
    "time.sleep(4) #set wait time\n",
    "\n",
    "element = driver.find_element_by_xpath('//*[@id=\"imagearea\"]/div[1]/div/a/img').click()\n",
    "\n",
    "time.sleep(4)\n",
    "\n",
    "with open('reports_all.jsonl', 'w') as file:\n",
    "    \n",
    "    #loop for 7469 reports \n",
    "    for i in range(0,1000):\n",
    "        print(i)\n",
    "        #get current url\n",
    "        link = driver.current_url\n",
    "        JSONObject = getJSONObject(link)\n",
    "        \n",
    "        if(JSONObject):\n",
    "            json.dump(JSONObject , file, ensure_ascii=False)\n",
    "        \n",
    "        # click on the > button\n",
    "        element = driver.find_element_by_xpath('//*[@id=\"imageClassM\"]/div/a[2]/img').click()\n",
    "        time.sleep(2)"
   ]
  },
  {
   "cell_type": "code",
   "execution_count": null,
   "metadata": {},
   "outputs": [],
   "source": []
  }
 ],
 "metadata": {
  "kernelspec": {
   "display_name": "Python 3",
   "language": "python",
   "name": "python3"
  },
  "language_info": {
   "codemirror_mode": {
    "name": "ipython",
    "version": 2
   },
   "file_extension": ".py",
   "mimetype": "text/x-python",
   "name": "python",
   "nbconvert_exporter": "python",
   "pygments_lexer": "ipython2",
   "version": "2.7.14"
  }
 },
 "nbformat": 4,
 "nbformat_minor": 2
}
